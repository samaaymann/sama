{
  "cells": [
    {
      "cell_type": "markdown",
      "metadata": {
        "id": "view-in-github",
        "colab_type": "text"
      },
      "source": [
        "<a href=\"https://colab.research.google.com/github/samaaymann/sama/blob/main/Regression_Mini_Project.ipynb\" target=\"_parent\"><img src=\"https://colab.research.google.com/assets/colab-badge.svg\" alt=\"Open In Colab\"/></a>"
      ]
    },
    {
      "cell_type": "markdown",
      "id": "bbe7ff35",
      "metadata": {
        "id": "bbe7ff35"
      },
      "source": [
        "# Data Mining — Linear Regression — Mini-Project 1 (Energy Consumption)\n",
        "\n",
        "**Course:** [CSEN911] Data Mining (Winter 2025)  \n",
        "**Instructor:** Dr. Ayman Alserafi  \n",
        "**Due:** 24 October 2025, 11:59 PM\n",
        "\n",
        "**Dataset:** `energy_data.csv`  \n",
        "\n",
        "\n",
        "> **Instructions:** For every step, write your own explanations and justifications and visualization in the provided Markdown prompts.\n",
        "\n",
        "\n"
      ]
    },
    {
      "cell_type": "markdown",
      "id": "b086a153",
      "metadata": {
        "id": "b086a153"
      },
      "source": [
        "***Edit this cell with your name(s), tutorial number(s) and ID(s)***\n",
        "\n",
        "---\n",
        "\n",
        "Name:Sama Ayman Taha\n",
        "\n",
        "ID:58-13516\n",
        "\n",
        "Tutorial:13\n",
        "\n",
        "---\n",
        "\n",
        "Name:Aly Khaled Abdelmoeem Mohamed\n",
        "\n",
        "ID:55-0381\n",
        "\n",
        "Tutorial:13\n",
        "\n",
        "---\n"
      ]
    },
    {
      "cell_type": "markdown",
      "id": "da2958bb",
      "metadata": {
        "id": "da2958bb"
      },
      "source": [
        "The dataset contains building-level energy readings and contextual attributes.\n",
        "\n",
        "Each row represents a building observation. Columns include:\n",
        "\n",
        "<div style=\"font-size:20px;\">\n",
        "\n",
        "| **Column** | **Description** |\n",
        "|-------------|-----------------|\n",
        "| **Building_ID** | Unique identifier for each building record. Used to distinguish one building entry from another. |\n",
        "| **Building_Type** | Category describing the primary use of the building (e.g., Residential, Commercial, Industrial, Educational, etc.). |\n",
        "| **Governorate** | The administrative region (governorate) where the building is located (e.g., Cairo, Giza, Alexandria). |\n",
        "| **Neighborhood** | The smaller district or local area within the governorate where the building is located. |\n",
        "| **Day_of_Week** | The day on which the energy consumption measurement was recorded (e.g., Sunday, Monday, etc.). |\n",
        "| **Occupancy_Level** | The relative number of occupants or activity level in the building, typically categorized as *Low*, *Medium*, or *High*. |\n",
        "| **Appliances_Usage_Level** | Indicates how intensively appliances are used in the building *Low*, *Medium*, or *High*. |\n",
        "| **SquareFootage** | The total floor area of the building (numeric). Serves as a proxy for building size, often influencing energy usage. |\n",
        "| **Last_Maintenance_Date** | The date of the last maintainance done on the building. |\n",
        "| **Average_Temperature** | The average ambient temperature (in °C) recorded during the data period. |\n",
        "| **Energy_Consumption** | The total energy used by the building, typically measured in kilowatt-hours (kWh).|\n",
        "\n",
        "</div>\n"
      ]
    },
    {
      "cell_type": "markdown",
      "id": "54979aed",
      "metadata": {
        "id": "54979aed"
      },
      "source": [
        "## Importing Libraries & Dataset"
      ]
    },
    {
      "cell_type": "code",
      "execution_count": null,
      "id": "b5c14ccd",
      "metadata": {
        "id": "b5c14ccd",
        "outputId": "10f08caa-91ec-491b-fa85-23c018fb3d58",
        "scrolled": true
      },
      "outputs": [
        {
          "data": {
            "text/html": [
              "<div>\n",
              "<style scoped>\n",
              "    .dataframe tbody tr th:only-of-type {\n",
              "        vertical-align: middle;\n",
              "    }\n",
              "\n",
              "    .dataframe tbody tr th {\n",
              "        vertical-align: top;\n",
              "    }\n",
              "\n",
              "    .dataframe thead th {\n",
              "        text-align: right;\n",
              "    }\n",
              "</style>\n",
              "<table border=\"1\" class=\"dataframe\">\n",
              "  <thead>\n",
              "    <tr style=\"text-align: right;\">\n",
              "      <th></th>\n",
              "      <th>Building_ID</th>\n",
              "      <th>Building_Type</th>\n",
              "      <th>Governorate</th>\n",
              "      <th>Neighborhood</th>\n",
              "      <th>Day_of_Week</th>\n",
              "      <th>Occupancy_Level</th>\n",
              "      <th>Appliances_Usage_Level</th>\n",
              "      <th>SquareFootage</th>\n",
              "      <th>Last_Maintenance_Date</th>\n",
              "      <th>Average_Temperature</th>\n",
              "      <th>Energy_Consumption</th>\n",
              "    </tr>\n",
              "  </thead>\n",
              "  <tbody>\n",
              "    <tr>\n",
              "      <th>0</th>\n",
              "      <td>BLD-1000-UD</td>\n",
              "      <td>Residential</td>\n",
              "      <td>Alexandria</td>\n",
              "      <td>Smouha</td>\n",
              "      <td>WeDnesday</td>\n",
              "      <td>High</td>\n",
              "      <td>Low</td>\n",
              "      <td>7063m2</td>\n",
              "      <td>2020-01-01</td>\n",
              "      <td>28.61</td>\n",
              "      <td>2713.95 kWh</td>\n",
              "    </tr>\n",
              "    <tr>\n",
              "      <th>1</th>\n",
              "      <td>BLD-1001-AX</td>\n",
              "      <td>Commercial</td>\n",
              "      <td>Giza</td>\n",
              "      <td>+Mohandessin14</td>\n",
              "      <td>tuesDAY</td>\n",
              "      <td>High</td>\n",
              "      <td>High</td>\n",
              "      <td>44372m2</td>\n",
              "      <td>2022-02-24</td>\n",
              "      <td>NaN</td>\n",
              "      <td>5744.99 kWh</td>\n",
              "    </tr>\n",
              "    <tr>\n",
              "      <th>2</th>\n",
              "      <td>BLD-1002-IH</td>\n",
              "      <td>Industrial</td>\n",
              "      <td>Cairo</td>\n",
              "      <td>New Cairo</td>\n",
              "      <td>SunDay</td>\n",
              "      <td>Medium</td>\n",
              "      <td>Low</td>\n",
              "      <td>19255</td>\n",
              "      <td>2021-02-22</td>\n",
              "      <td>37.88</td>\n",
              "      <td>4101.24 kWh</td>\n",
              "    </tr>\n",
              "    <tr>\n",
              "      <th>3</th>\n",
              "      <td>BLD-1003-HE</td>\n",
              "      <td>NaN</td>\n",
              "      <td>NaN</td>\n",
              "      <td>+92Dokki</td>\n",
              "      <td>TuesDay</td>\n",
              "      <td>Low</td>\n",
              "      <td>High</td>\n",
              "      <td>13265</td>\n",
              "      <td>2023-07-30</td>\n",
              "      <td>35.06</td>\n",
              "      <td>3009.14 kWh</td>\n",
              "    </tr>\n",
              "    <tr>\n",
              "      <th>4</th>\n",
              "      <td>BLD-1004-XD</td>\n",
              "      <td>Commercial</td>\n",
              "      <td>Alexandria</td>\n",
              "      <td>Smouha</td>\n",
              "      <td>Monday</td>\n",
              "      <td>Low</td>\n",
              "      <td>Low</td>\n",
              "      <td>13375</td>\n",
              "      <td>2022-08-12</td>\n",
              "      <td>28.82</td>\n",
              "      <td>3279.17 kWh</td>\n",
              "    </tr>\n",
              "  </tbody>\n",
              "</table>\n",
              "</div>"
            ],
            "text/plain": [
              "   Building_ID Building_Type Governorate    Neighborhood Day_of_Week  \\\n",
              "0  BLD-1000-UD   Residential  Alexandria          Smouha   WeDnesday   \n",
              "1  BLD-1001-AX    Commercial        Giza  +Mohandessin14     tuesDAY   \n",
              "2  BLD-1002-IH    Industrial       Cairo       New Cairo      SunDay   \n",
              "3  BLD-1003-HE           NaN         NaN        +92Dokki     TuesDay   \n",
              "4  BLD-1004-XD    Commercial  Alexandria          Smouha      Monday   \n",
              "\n",
              "  Occupancy_Level Appliances_Usage_Level SquareFootage Last_Maintenance_Date  \\\n",
              "0            High                    Low        7063m2            2020-01-01   \n",
              "1            High                   High       44372m2            2022-02-24   \n",
              "2          Medium                    Low         19255            2021-02-22   \n",
              "3             Low                   High         13265            2023-07-30   \n",
              "4             Low                    Low         13375            2022-08-12   \n",
              "\n",
              "   Average_Temperature Energy_Consumption  \n",
              "0                28.61        2713.95 kWh  \n",
              "1                  NaN        5744.99 kWh  \n",
              "2                37.88        4101.24 kWh  \n",
              "3                35.06        3009.14 kWh  \n",
              "4                28.82        3279.17 kWh  "
            ]
          },
          "execution_count": 5,
          "metadata": {},
          "output_type": "execute_result"
        }
      ],
      "source": [
        "import pandas as pd\n",
        "import numpy as np\n",
        "import matplotlib.pyplot as plt\n",
        "import seaborn as sns\n",
        "\n",
        "try:\n",
        "    df = pd.read_csv('energy_data.csv')\n",
        "except:\n",
        "    df = pd.read_csv('https://raw.githubusercontent.com/GUC-DM/W2025/refs/heads/main/data/energy_data.csv')\n",
        "\n",
        "df.head()"
      ]
    },
    {
      "cell_type": "markdown",
      "id": "139e67c5",
      "metadata": {
        "id": "139e67c5"
      },
      "source": [
        "## Data Inspection\n",
        "\n",
        "Perform data inspection tasks here (recommended for data understanding)."
      ]
    },
    {
      "cell_type": "code",
      "execution_count": null,
      "id": "2ca36fe4",
      "metadata": {
        "id": "2ca36fe4"
      },
      "outputs": [],
      "source": []
    },
    {
      "cell_type": "markdown",
      "id": "6833ef67",
      "metadata": {
        "id": "6833ef67"
      },
      "source": [
        "## Data Pre-Processing & Cleaning\n",
        "\n",
        "_Apply any data preprocessing and/or feature engineering below. Show/output the changes to the dataset._"
      ]
    },
    {
      "cell_type": "code",
      "execution_count": null,
      "id": "88d7f45a",
      "metadata": {
        "id": "88d7f45a"
      },
      "outputs": [],
      "source": []
    },
    {
      "cell_type": "markdown",
      "id": "88bdafa3",
      "metadata": {
        "id": "88bdafa3"
      },
      "source": [
        "## Exploratory Data Analysis"
      ]
    },
    {
      "cell_type": "markdown",
      "id": "d41ea6c3",
      "metadata": {
        "id": "d41ea6c3"
      },
      "source": [
        "**Q1:** What are the most popular neighborhoods? plot all and order them on the graph (mention top 3)\n",
        "\n",
        "**Visualization**"
      ]
    },
    {
      "cell_type": "code",
      "execution_count": null,
      "id": "19156b96",
      "metadata": {
        "id": "19156b96"
      },
      "outputs": [],
      "source": []
    },
    {
      "cell_type": "markdown",
      "id": "2e0c8f51",
      "metadata": {
        "id": "2e0c8f51"
      },
      "source": [
        "**Answer for Q1:** _Your answer here_"
      ]
    },
    {
      "cell_type": "markdown",
      "id": "ee97be92",
      "metadata": {
        "id": "ee97be92"
      },
      "source": [
        "**Q2:** Show the distribution of the energy consumption of each Building type.\n",
        "\n",
        "Which type have the widest distribution of energy consumption?\n",
        "\n",
        "Which (on average) has the highest consumption?.\n",
        "\n",
        "**Visualization**"
      ]
    },
    {
      "cell_type": "code",
      "execution_count": null,
      "id": "ec865cd8",
      "metadata": {
        "id": "ec865cd8"
      },
      "outputs": [],
      "source": []
    },
    {
      "cell_type": "markdown",
      "id": "e783cbbf",
      "metadata": {
        "id": "e783cbbf"
      },
      "source": [
        "**Answer for Q2:** _Your answer here_"
      ]
    },
    {
      "cell_type": "markdown",
      "id": "ad9f42b8",
      "metadata": {
        "id": "ad9f42b8"
      },
      "source": [
        "**Q3:** How does the building size affect energy consumption?\n",
        "\n",
        "**Visualization**"
      ]
    },
    {
      "cell_type": "code",
      "execution_count": null,
      "id": "f90a6d0e",
      "metadata": {
        "id": "f90a6d0e"
      },
      "outputs": [],
      "source": []
    },
    {
      "cell_type": "markdown",
      "id": "07eaceac",
      "metadata": {
        "id": "07eaceac"
      },
      "source": [
        "**Answer for Q3:** _Your answer here_"
      ]
    },
    {
      "cell_type": "markdown",
      "id": "2b766c6d",
      "metadata": {
        "id": "2b766c6d"
      },
      "source": [
        "**Q4:** Do buildings consume more energy if not maintained frequently?\n",
        "\n",
        "**Visualization**"
      ]
    },
    {
      "cell_type": "code",
      "execution_count": null,
      "id": "23f83afd",
      "metadata": {
        "id": "23f83afd"
      },
      "outputs": [],
      "source": []
    },
    {
      "cell_type": "markdown",
      "id": "62146aa6",
      "metadata": {
        "id": "62146aa6"
      },
      "source": [
        "**Answer for Q4:** _Your answer here_"
      ]
    },
    {
      "cell_type": "markdown",
      "id": "38ba2b33",
      "metadata": {
        "id": "38ba2b33"
      },
      "source": [
        "**Q5:** Are all the numerical variables normally distributed, or is there any skewness?\n",
        "\n",
        "**Visualization**"
      ]
    },
    {
      "cell_type": "code",
      "execution_count": null,
      "id": "16de46d9",
      "metadata": {
        "id": "16de46d9"
      },
      "outputs": [],
      "source": []
    },
    {
      "cell_type": "markdown",
      "id": "0e6e4dd4",
      "metadata": {
        "id": "0e6e4dd4"
      },
      "source": [
        "**Answer for Q5:** _Your answer here_"
      ]
    },
    {
      "cell_type": "markdown",
      "id": "1f6cf928",
      "metadata": {
        "id": "1f6cf928"
      },
      "source": [
        "**Q6:** What is multicollinearity? And why is it a problem for linear regression? Does this problem exist in this\n",
        "dataset?\n",
        "\n",
        "**Visualization**"
      ]
    },
    {
      "cell_type": "code",
      "execution_count": null,
      "id": "c099e907",
      "metadata": {
        "id": "c099e907"
      },
      "outputs": [],
      "source": []
    },
    {
      "cell_type": "markdown",
      "id": "f6f89b0e",
      "metadata": {
        "id": "f6f89b0e"
      },
      "source": [
        "**Answer for Q6:** _Your answer here_"
      ]
    },
    {
      "cell_type": "markdown",
      "id": "aecd76ce",
      "metadata": {
        "id": "aecd76ce"
      },
      "source": [
        "## Data Preparation for Modelling\n",
        "\n",
        "_Apply any additional data preparation steps needed before modelling below. Show/output the changes to the dataset._"
      ]
    },
    {
      "cell_type": "code",
      "execution_count": null,
      "id": "8e373980",
      "metadata": {
        "id": "8e373980"
      },
      "outputs": [],
      "source": []
    },
    {
      "cell_type": "markdown",
      "id": "ef043cf5",
      "metadata": {
        "id": "ef043cf5"
      },
      "source": [
        "## Modelling\n",
        "\n",
        "_Apply the linear regression model below._"
      ]
    },
    {
      "cell_type": "code",
      "execution_count": null,
      "id": "f1661863",
      "metadata": {
        "id": "f1661863"
      },
      "outputs": [],
      "source": []
    },
    {
      "cell_type": "markdown",
      "id": "5ab2de19",
      "metadata": {
        "id": "5ab2de19"
      },
      "source": [
        "## Model Evaluation\n",
        "\n",
        "Evaluate the model you applied."
      ]
    },
    {
      "cell_type": "code",
      "execution_count": null,
      "id": "7612d8c7",
      "metadata": {
        "id": "7612d8c7"
      },
      "outputs": [],
      "source": []
    },
    {
      "cell_type": "markdown",
      "id": "19ba6f5f",
      "metadata": {
        "id": "19ba6f5f"
      },
      "source": [
        "## Conclusion and Recommendations\n",
        "\n",
        "Comment on the model performance and your findings from model evaluation. State the problems (if any) and suggest possible solutions. Would you recommend this model for an electrcity company aiming to estimate the energy levels of each building?\n",
        "\n",
        "**Answer**: your answer here."
      ]
    },
    {
      "cell_type": "code",
      "execution_count": null,
      "id": "3ad31ed1-1535-40c3-b192-1468219fd9c0",
      "metadata": {
        "id": "3ad31ed1-1535-40c3-b192-1468219fd9c0"
      },
      "outputs": [],
      "source": []
    }
  ],
  "metadata": {
    "colab": {
      "provenance": [],
      "include_colab_link": true
    },
    "kernelspec": {
      "display_name": "Python 3 (ipykernel)",
      "language": "python",
      "name": "python3"
    },
    "language_info": {
      "codemirror_mode": {
        "name": "ipython",
        "version": 3
      },
      "file_extension": ".py",
      "mimetype": "text/x-python",
      "name": "python",
      "nbconvert_exporter": "python",
      "pygments_lexer": "ipython3",
      "version": "3.13.5"
    }
  },
  "nbformat": 4,
  "nbformat_minor": 5
}